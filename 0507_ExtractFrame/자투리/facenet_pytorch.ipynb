{
 "cells": [
  {
   "cell_type": "markdown",
   "metadata": {},
   "source": [
    "# facenet-pytorch package 사용\n",
    "\n",
    "\n",
    "\n",
    "0. pip install facenet-pytorch\n",
    "\n",
    "\n",
    "1. loading all video frame\n",
    "\n",
    "\n",
    "2. finding all faces\n",
    "\n",
    "\n",
    "3. calculating face embeddings at over 30 frames per second\n",
    "\n"
   ]
  },
  {
   "cell_type": "markdown",
   "metadata": {},
   "source": [
    "\n",
    "## MTCMM 모듈\n",
    "\n",
    "\n",
    "work directly with images represented as **numpy arrays.**\n",
    "\n",
    "\n",
    "acieves higher performance when reading video frames with either **cv2.VideoCapture or decord.VideoReader**\n",
    "\n",
    "\n",
    "A number of additional enhancements have been added to improve detection efficiency\n",
    "\n",
    "\n",
    " \"How to detect every face in every frame in every video\""
   ]
  },
  {
   "cell_type": "code",
   "execution_count": 5,
   "metadata": {},
   "outputs": [
    {
     "ename": "ModuleNotFoundError",
     "evalue": "No module named 'cupy'",
     "output_type": "error",
     "traceback": [
      "\u001b[0;31m---------------------------------------------------------------------------\u001b[0m",
      "\u001b[0;31mModuleNotFoundError\u001b[0m                       Traceback (most recent call last)",
      "\u001b[0;32m<ipython-input-5-8448ba7871ac>\u001b[0m in \u001b[0;36m<module>\u001b[0;34m\u001b[0m\n\u001b[1;32m      4\u001b[0m \u001b[0;32mfrom\u001b[0m \u001b[0mfacenet_pytorch\u001b[0m \u001b[0;32mimport\u001b[0m \u001b[0mMTCNN\u001b[0m\u001b[0;34m\u001b[0m\u001b[0;34m\u001b[0m\u001b[0m\n\u001b[1;32m      5\u001b[0m \u001b[0;32mimport\u001b[0m \u001b[0mtorch\u001b[0m\u001b[0;34m\u001b[0m\u001b[0;34m\u001b[0m\u001b[0m\n\u001b[0;32m----> 6\u001b[0;31m \u001b[0;32mimport\u001b[0m \u001b[0mcupy\u001b[0m\u001b[0;34m\u001b[0m\u001b[0;34m\u001b[0m\u001b[0m\n\u001b[0m\u001b[1;32m      7\u001b[0m \u001b[0;32mfrom\u001b[0m \u001b[0mdecord\u001b[0m \u001b[0;32mimport\u001b[0m \u001b[0mVideoReader\u001b[0m\u001b[0;34m,\u001b[0m \u001b[0mgpu\u001b[0m\u001b[0;34m\u001b[0m\u001b[0;34m\u001b[0m\u001b[0m\n\u001b[1;32m      8\u001b[0m \u001b[0;32mimport\u001b[0m \u001b[0mglob\u001b[0m\u001b[0;34m\u001b[0m\u001b[0;34m\u001b[0m\u001b[0m\n",
      "\u001b[0;31mModuleNotFoundError\u001b[0m: No module named 'cupy'"
     ]
    }
   ],
   "source": [
    "import sys, os\n",
    "sys.path.insert(0,'/kaggle/working/reader/python')\n",
    "\n",
    "from facenet_pytorch import MTCNN\n",
    "import torch\n",
    "import cupy\n",
    "from decord import VideoReader, gpu\n",
    "import glob\n",
    "from tqdm.notebook import tqdm\n",
    "import numpy as np\n",
    "import pandas as pd\n",
    "from matplotlib import pyplot as plt\n",
    "\n",
    "device = 'cuda' if torch.cuda.is_available() else 'cpu'"
   ]
  },
  {
   "cell_type": "markdown",
   "metadata": {},
   "source": [
    "cupy 설치하는거 잘 안됨\n",
    "\n",
    "\n",
    "GPU 가 필요조건이라는데 이게 없어서 그런가...?\n",
    "\n",
    "\n",
    "anaconda 로는 될까...? **pip install conda**\n",
    "\n",
    "anaconda 설치가 안돼서 pyenv 라는 homebrew 환경의 솔루션 사용\n",
    "\n",
    "**brew install pyenv**\n",
    "\n",
    "\n",
    "\n",
    "아나콘다 또 다시 설치중~~ 이번엔 좀 돼라\n",
    "\n",
    "\n",
    "\n",
    "\n",
    "## FastMTCNN 클래스 구현\n"
   ]
  },
  {
   "cell_type": "markdown",
   "metadata": {},
   "source": [
    "MTCNN 은 face detection -> N개의 프레임마다 수행, 모든 프레임에 적용됨\n",
    "\n"
   ]
  },
  {
   "cell_type": "code",
   "execution_count": null,
   "metadata": {},
   "outputs": [],
   "source": [
    "class FastMTCNN(object):\n",
    "    \"\"\"Fast MTCNN implementation.\"\"\"\n",
    "    \n",
    "    def __init__(self, stride, *args, **kwargs):\n",
    "        \"\"\"Constructor for FastMTCNN class.\n",
    "        \n",
    "        Arguments:\n",
    "            stride (int): The detection stride. Faces will be detected every `stride` frames\n",
    "                and remembered for `stride-1` frames.\n",
    "        \n",
    "        Keyword arguments:\n",
    "            resize (float): Fractional frame scaling. [default: {1}]\n",
    "            *args: Arguments to pass to the MTCNN constructor. See help(MTCNN).\n",
    "            **kwargs: Keyword arguments to pass to the MTCNN constructor. See help(MTCNN).\n",
    "        \"\"\"\n",
    "        self.stride = stride\n",
    "        self.mtcnn = MTCNN(*args, **kwargs)\n",
    "        \n",
    "    def __call__(self, frames):\n",
    "        \"\"\"Detect faces in frames using strided MTCNN.\"\"\"\n",
    "                      \n",
    "        boxes, probs = self.mtcnn.detect(frames[::self.stride])\n",
    "\n",
    "        faces = []\n",
    "        probs_out = []\n",
    "        frame_index = []\n",
    "        for i, frame in enumerate(frames):\n",
    "            box_ind = int(i / self.stride)\n",
    "            if boxes[box_ind] is None:\n",
    "                continue\n",
    "            for box, prob in zip(boxes[box_ind], probs[box_ind]):\n",
    "                box = [int(b) for b in box]\n",
    "                faces.append(frame[box[1]:box[3], box[0]:box[2]].copy())\n",
    "                probs_out.append(prob)\n",
    "                frame_index.append(i)\n",
    "                \n",
    "        \n",
    "        return faces, probs, frame_index"
   ]
  },
  {
   "cell_type": "markdown",
   "metadata": {},
   "source": [
    "## Face Detector 정의"
   ]
  },
  {
   "cell_type": "code",
   "execution_count": null,
   "metadata": {},
   "outputs": [],
   "source": [
    "fast_mtcnn = FastMTCNN(\n",
    "    stride=10,\n",
    "    margin=20,\n",
    "    factor=0.6,\n",
    "    keep_all=True,\n",
    "    device=device,\n",
    "    thresholds=[0.6, 0.7, 0.98]\n",
    ")"
   ]
  },
  {
   "cell_type": "markdown",
   "metadata": {},
   "source": [
    "## 모든 비디오에 대해"
   ]
  },
  {
   "cell_type": "code",
   "execution_count": null,
   "metadata": {},
   "outputs": [],
   "source": [
    "%%time\n",
    "\n",
    "def mean_detection_prob(prob):\n",
    "    cnt_p = 0\n",
    "    sum_p = 0\n",
    "    for p in prob:\n",
    "        for pp in p:\n",
    "            if pp is not None:\n",
    "                cnt_p += 1\n",
    "                sum_p += pp\n",
    "    return sum_p / cnt_p\n",
    "\n",
    "\n",
    "def get_frames(filename, batch_size=30):\n",
    "    v_cap = VideoReader(filename, ctx=gpu())\n",
    "    v_len = len(v_cap)\n",
    "\n",
    "    frames = []\n",
    "    for i in range(0, v_len, batch_size):\n",
    "        batch = v_cap.get_batch(range(i, min(i + batch_size, v_len - 1))).asnumpy()\n",
    "        frames.extend(batch.copy())\n",
    "    \n",
    "    frames = np.array(frames)\n",
    "    \n",
    "    del v_cap, v_len, batch\n",
    "    \n",
    "    return frames\n",
    "\n",
    "\n",
    "filenames = glob.glob('/kaggle/input/deepfake-detection-challenge/test_videos/*.mp4')\n",
    "\n",
    "num_faces = 0\n",
    "probs = []\n",
    "indexes = []\n",
    "pbar = tqdm(filenames)\n",
    "for filename in pbar:\n",
    "    frames = get_frames(filename)\n",
    "\n",
    "    faces, prob, index = fast_mtcnn(frames)        \n",
    "    probs.append(mean_detection_prob(prob))\n",
    "\n",
    "    num_faces += len(faces)\n",
    "    pbar.set_description(f'Faces found: {num_faces}')\n",
    "\n",
    "    del frames"
   ]
  },
  {
   "cell_type": "code",
   "execution_count": null,
   "metadata": {},
   "outputs": [],
   "source": [
    "probs = np.asarray(probs)\n",
    "probs = np.clip((1 - probs) ** (1 / 6) * 1.7, 0.0, 1.0)\n",
    "plt.hist(probs, 40);\n",
    "\n",
    "filenames = [os.path.basename(f) for f in filenames]\n",
    "\n",
    "submission = pd.DataFrame({'filename': filenames, 'label': probs})\n",
    "submission.to_csv('submission.csv', index=False)\n",
    "submission"
   ]
  },
  {
   "cell_type": "markdown",
   "metadata": {},
   "source": [
    "https://www.kaggle.com/timesler/facenet-pytorch-decord-process-every-frame "
   ]
  },
  {
   "cell_type": "code",
   "execution_count": null,
   "metadata": {},
   "outputs": [],
   "source": []
  }
 ],
 "metadata": {
  "kernelspec": {
   "display_name": "Python 3",
   "language": "python",
   "name": "python3"
  },
  "language_info": {
   "codemirror_mode": {
    "name": "ipython",
    "version": 3
   },
   "file_extension": ".py",
   "mimetype": "text/x-python",
   "name": "python",
   "nbconvert_exporter": "python",
   "pygments_lexer": "ipython3",
   "version": "3.8.1"
  }
 },
 "nbformat": 4,
 "nbformat_minor": 2
}
