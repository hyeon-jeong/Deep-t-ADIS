{
 "cells": [
  {
   "cell_type": "markdown",
   "metadata": {},
   "source": [
    "DataSet 준비\n",
    "\n",
    "1. length, size, frame, 2d/3d\n",
    "2. pre-processing\n",
    "    using OpenCV, FFmpeg -> instead, using pre-proccesed dataset, 'feichtenhofer'\n"
   ]
  },
  {
   "cell_type": "markdown",
   "metadata": {},
   "source": [
    "Models 구성\n",
    "\n",
    "1. 3D CNN\n",
    "    3D 커널 사이즈를 (a,b,c), 채널의 수를 n이라 하면 비디오 인풋에 (a,b,c,n) 을 입력\n",
    "    \n",
    "2. CNN + RNN (CRNN)\n",
    "    CNN encoder + RNN decoder\n",
    "    \n",
    "    * CNN encoder : 이미지 x(t) -> 이미지 벡터 z(t)\n",
    "    * RNN decoder : 이미지 벡터 z(t) -> 시간벡터 h(t)\n",
    "    "
   ]
  },
  {
   "cell_type": "markdown",
   "metadata": {},
   "source": [
    "Training \n",
    "\n",
    "1. 3D CNN\n",
    "    * resize\n",
    "    * normalization, dropout\n",
    "    \n",
    "2. CRNN\n",
    "    * resize\n",
    "    * ?\n",
    "    \n",
    "* training : test = 3: 1 의 비율로 진행함\n",
    "    * dropout - removed\n",
    "    * batchnorm layer - moving avg & variance\n",
    "        => model.eval()\n",
    "\n",
    "    "
   ]
  },
  {
   "cell_type": "markdown",
   "metadata": {},
   "source": [
    "Usage\n",
    "\n",
    "1. 사전 준비(라이브러리)\n",
    "    * 파이토치\n",
    "    * 넘파이\n",
    "    * 사이킷런\n",
    "    * 매트플랍\n",
    "    * 판다스\n",
    "    * tqdm\n",
    "    \n",
    "\n",
    "2. 데이터셋 다운로드(UCF101)\n",
    "    * 참고한 문헌에서는, 전처리가 된 데이터셋 사용\n",
    "    * 이미 RGB 이미지로 분리되어 있음\n",
    "    * UCF101 RGB : part1, part2, part3\n",
    "    * 세 파트를 unzip -> 같은 폴더에 -> jpegs_256 으로 저장\n",
    "    \n",
    "\n",
    "3. 파라미터 & 경로 조정\n",
    "    * data_path = \"./UCF101/jpegs_256/\"\n",
    "    * action_name_path = \"./UCF101actions.pkl\"\n",
    "    * save_model_path = \"./model_ckpt/\"\n",
    "    \n",
    "    \n",
    "4. Training & Test\n",
    "    3D CNN/ CRNN/ ResNetCRNN \n",
    "    -> python UCF101_3DCNN/CRNN/ResNetCRNN.py\n",
    "    \n",
    "    \n",
    "5. 모델 output\n",
    "    * training & testing loss/accuracy\n",
    "    * model parameter * optimizer\n",
    "    * check model prediction"
   ]
  },
  {
   "cell_type": "code",
   "execution_count": null,
   "metadata": {},
   "outputs": [],
   "source": []
  }
 ],
 "metadata": {
  "kernelspec": {
   "display_name": "Python 3",
   "language": "python",
   "name": "python3"
  },
  "language_info": {
   "codemirror_mode": {
    "name": "ipython",
    "version": 3
   },
   "file_extension": ".py",
   "mimetype": "text/x-python",
   "name": "python",
   "nbconvert_exporter": "python",
   "pygments_lexer": "ipython3",
   "version": "3.8.1"
  }
 },
 "nbformat": 4,
 "nbformat_minor": 2
}
