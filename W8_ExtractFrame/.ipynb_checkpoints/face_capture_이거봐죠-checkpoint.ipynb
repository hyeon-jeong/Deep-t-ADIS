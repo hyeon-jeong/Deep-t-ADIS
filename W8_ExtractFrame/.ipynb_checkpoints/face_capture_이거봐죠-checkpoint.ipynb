{
 "cells": [
  {
   "cell_type": "markdown",
   "metadata": {},
   "source": [
    "OpenCV 사용\n",
    "\n",
    "\n",
    "일단, 비디오를 불러와서 프레임단위로 추출 + 저장이 1차 목적\n",
    "\n",
    "<참고>\n",
    "\n",
    "https://docs.opencv.org/2.4/modules/highgui/doc/reading_and_writing_images_and_video.html \n",
    "\n",
    "\n",
    "\n",
    "\n",
    "* videoCapture 인터페이스를 이용한 베이직 코드\n",
    "\n",
    "\n",
    "opencv_source_code/samples/python2/video.py\n",
    "\n",
    "\n",
    "\n",
    "\n",
    "* basic 비디오 처리 샘플코드\n",
    "\n",
    "\n",
    "opencv_source_code/samples/python2/video_dmtx.py\n",
    "\n",
    "\n",
    "\n",
    "\n",
    "* 멀티쓰레드 비디오 처리 샘플코드\n",
    "\n",
    "\n",
    "opencv_source_code/samples/python2/video_threaded.py"
   ]
  },
  {
   "cell_type": "markdown",
   "metadata": {},
   "source": [
    "대기시간\n",
    "k = cv2.waitKey(0)\n",
    "if k == 27: #esc key\n",
    "cv2.destroyAllWindows()\n",
    "break"
   ]
  },
  {
   "cell_type": "code",
   "execution_count": 1,
   "metadata": {},
   "outputs": [],
   "source": [
    "import os\n",
    "\n",
    "def createfolder(folder):\n",
    "    try:\n",
    "        if not os.path.exists(folder):\n",
    "            os.makedirs(folder)\n",
    "    except OSError:\n",
    "        print('Error: creating directory' + folder)\n"
   ]
  },
  {
   "cell_type": "markdown",
   "metadata": {},
   "source": [
    "## path 경로 설정 해야해 미현아!!! \n"
   ]
  },
  {
   "cell_type": "code",
   "execution_count": 2,
   "metadata": {
    "scrolled": false
   },
   "outputs": [
    {
     "name": "stdout",
     "output_type": "stream",
     "text": [
      "Frame doesn't Exist\n"
     ]
    }
   ],
   "source": [
    "import cv2\n",
    "\n",
    "path = '/Users/hyeonjeong_baek/CyberProjects/Deep-t-ADIS/W8_ExtractFrame/sample3_frame'\n",
    "video = cv2.VideoCapture('sample3.mp4')\n",
    "count = 0\n",
    "\n",
    "videoframe = video.get(cv2.CAP_PROP_POS_FRAMES)\n",
    "videocount = video.get(cv2.CAP_PROP_FRAME_COUNT)\n",
    "\n",
    "createfolder(path)\n",
    "\n",
    "while video.isOpened():\n",
    "    #ret 은 프레임이 존재하지 않을때 T/F 반환\n",
    "    #frame 은 프레임 반환\n",
    "    if(videoframe == videocount):\n",
    "        video.open('sample3.mp4')\n",
    "    \n",
    "    ret, frame = video.read()\n",
    "    if ret == False:\n",
    "        print(\"Frame doesn't Exist\")\n",
    "        break\n",
    "    \n",
    "    try:\n",
    "        cv2.imshow('sample3', frame)        \n",
    "        cv2.imwrite('sample3_frame/frame %d.jpg' %count, frame)\n",
    "        #print('Saved frame%d.jpg' %count)\n",
    "        count += 1\n",
    "        \n",
    "    except :\n",
    "        pass\n",
    "\n",
    "video.release()\n",
    "cv2.destroyAllWindows()\n"
   ]
  },
  {
   "cell_type": "markdown",
   "metadata": {},
   "source": [
    "\n",
    "**face_recognition 의 load_image_file 함수가 안먹어서 api 코드보고 바꿈**"
   ]
  },
  {
   "cell_type": "code",
   "execution_count": 3,
   "metadata": {},
   "outputs": [],
   "source": [
    "import PIL\n",
    "from PIL import Image\n",
    "\n",
    "def load_image_file(file, mode='RGB'):\n",
    "    im = PIL.Image.open(file)\n",
    "    if mode:\n",
    "        im = im.convert(mode)\n",
    "    return np.array(im)"
   ]
  },
  {
   "cell_type": "code",
   "execution_count": 4,
   "metadata": {},
   "outputs": [
    {
     "name": "stdout",
     "output_type": "stream",
     "text": [
      "337\n"
     ]
    }
   ],
   "source": [
    "import os\n",
    "\n",
    "directory = os.walk(path).__next__()[2]\n",
    "print(len(directory))"
   ]
  },
  {
   "cell_type": "markdown",
   "metadata": {},
   "source": [
    "## 샘플(연희얼굴 - frame 두 개만|)"
   ]
  },
  {
   "cell_type": "code",
   "execution_count": 12,
   "metadata": {},
   "outputs": [
    {
     "name": "stdout",
     "output_type": "stream",
     "text": [
      "[[[174 137 121]\n",
      "  [174 137 121]\n",
      "  [174 137 121]\n",
      "  ...\n",
      "  [175 143 128]\n",
      "  [175 143 128]\n",
      "  [174 142 127]]\n",
      "\n",
      " [[174 137 121]\n",
      "  [174 137 121]\n",
      "  [174 137 121]\n",
      "  ...\n",
      "  [176 144 129]\n",
      "  [175 143 128]\n",
      "  [174 142 127]]\n",
      "\n",
      " [[174 137 121]\n",
      "  [174 137 121]\n",
      "  [174 137 121]\n",
      "  ...\n",
      "  [176 144 129]\n",
      "  [175 143 128]\n",
      "  [173 141 126]]\n",
      "\n",
      " ...\n",
      "\n",
      " [[114  66  44]\n",
      "  [113  66  46]\n",
      "  [108  63  44]\n",
      "  ...\n",
      "  [187 188 218]\n",
      "  [172 173 203]\n",
      "  [158 159 189]]\n",
      "\n",
      " [[116  68  45]\n",
      "  [115  69  46]\n",
      "  [111  66  45]\n",
      "  ...\n",
      "  [190 191 221]\n",
      "  [175 176 206]\n",
      "  [162 163 193]]\n",
      "\n",
      " [[114  67  41]\n",
      "  [113  67  43]\n",
      "  [110  65  42]\n",
      "  ...\n",
      "  [192 193 223]\n",
      "  [180 181 211]\n",
      "  [168 169 199]]]\n"
     ]
    },
    {
     "ename": "TypeError",
     "evalue": "face_locations() got an unexpected keyword argument 'model'",
     "output_type": "error",
     "traceback": [
      "\u001b[0;31m---------------------------------------------------------------------------\u001b[0m",
      "\u001b[0;31mTypeError\u001b[0m                                 Traceback (most recent call last)",
      "\u001b[0;32m<ipython-input-12-c604b60df125>\u001b[0m in \u001b[0;36m<module>\u001b[0;34m\u001b[0m\n\u001b[1;32m      9\u001b[0m \u001b[0;32mfor\u001b[0m \u001b[0mimg\u001b[0m \u001b[0;32min\u001b[0m \u001b[0mimages\u001b[0m\u001b[0;34m:\u001b[0m\u001b[0;34m\u001b[0m\u001b[0;34m\u001b[0m\u001b[0m\n\u001b[1;32m     10\u001b[0m     \u001b[0mprint\u001b[0m\u001b[0;34m(\u001b[0m\u001b[0mimg\u001b[0m\u001b[0;34m)\u001b[0m\u001b[0;34m\u001b[0m\u001b[0;34m\u001b[0m\u001b[0m\n\u001b[0;32m---> 11\u001b[0;31m     \u001b[0mface_location\u001b[0m \u001b[0;34m=\u001b[0m \u001b[0mface_recognition\u001b[0m\u001b[0;34m.\u001b[0m\u001b[0mface_locations\u001b[0m\u001b[0;34m(\u001b[0m\u001b[0mimg\u001b[0m\u001b[0;34m,\u001b[0m \u001b[0mmodel\u001b[0m\u001b[0;34m=\u001b[0m\u001b[0;34m'cnn'\u001b[0m\u001b[0;34m)\u001b[0m\u001b[0;34m\u001b[0m\u001b[0;34m\u001b[0m\u001b[0m\n\u001b[0m\u001b[1;32m     12\u001b[0m     \u001b[0;31m#face_locations = face_recognition.face_locations(image)\u001b[0m\u001b[0;34m\u001b[0m\u001b[0;34m\u001b[0m\u001b[0;34m\u001b[0m\u001b[0m\n\u001b[1;32m     13\u001b[0m     \u001b[0mface_locations\u001b[0m\u001b[0;34m.\u001b[0m\u001b[0mappend\u001b[0m\u001b[0;34m(\u001b[0m\u001b[0mface_location\u001b[0m\u001b[0;34m)\u001b[0m\u001b[0;34m\u001b[0m\u001b[0;34m\u001b[0m\u001b[0m\n",
      "\u001b[0;31mTypeError\u001b[0m: face_locations() got an unexpected keyword argument 'model'"
     ]
    }
   ],
   "source": [
    "import face_recognition\n",
    "\n",
    "images = []\n",
    "for i in range(2):\n",
    "    image = load_image_file(\"sample3_frame/frame \"+str(i)+\".jpg\")\n",
    "    images.append(image)\n",
    "\n",
    "face_locations = []\n",
    "for img in images:\n",
    "    print(img)\n",
    "    face_location = face_recognition.face_locations(img, model='cnn')\n",
    "    #face_locations = face_recognition.face_locations(image)\n",
    "    face_locations.append(face_location)\n",
    "\n",
    "    \n",
    "print(face_locations)\n",
    "print(\"I found {} face(s) in this photograph.\".format(len(face_locations)))\n",
    "\n",
    "for face_location in face_locations:\n",
    "    print(face_location)\n",
    "    # Print the location of each face in this image\n",
    "    top, right, bottom, left = face_location[0]\n",
    "    print(\"A face is located at pixel location Top: {}, Left: {}, Bottom: {}, Right: {}\".format(top, left, bottom, right))\n",
    "\n",
    "    # You can access the actual face itself like this:\n",
    "    face_image = image[top:bottom, left:right]\n",
    "    pil_image = Image.fromarray(face_image)\n",
    "    pil_image.show()"
   ]
  },
  {
   "cell_type": "markdown",
   "metadata": {},
   "source": [
    "## face_recognition 라이브러리를 이용해서 face frame 추출\n",
    "\n",
    "**지금은 video -> frame 이미지 저장 -> 이미지 불러와서 얼굴만 따오기** \n",
    "\n",
    "이거를 아예 video -> 얼굴 프레임 저장으로 간추릴 예정임"
   ]
  },
  {
   "cell_type": "code",
   "execution_count": 13,
   "metadata": {},
   "outputs": [
    {
     "ename": "TypeError",
     "evalue": "face_locations() got an unexpected keyword argument 'model'",
     "output_type": "error",
     "traceback": [
      "\u001b[0;31m---------------------------------------------------------------------------\u001b[0m",
      "\u001b[0;31mTypeError\u001b[0m                                 Traceback (most recent call last)",
      "\u001b[0;32m<ipython-input-13-e999bf41dcb2>\u001b[0m in \u001b[0;36m<module>\u001b[0;34m\u001b[0m\n\u001b[1;32m     18\u001b[0m \u001b[0mface_locations\u001b[0m \u001b[0;34m=\u001b[0m \u001b[0;34m[\u001b[0m\u001b[0;34m]\u001b[0m\u001b[0;34m\u001b[0m\u001b[0;34m\u001b[0m\u001b[0m\n\u001b[1;32m     19\u001b[0m \u001b[0;32mfor\u001b[0m \u001b[0mimg\u001b[0m \u001b[0;32min\u001b[0m \u001b[0mimages\u001b[0m\u001b[0;34m:\u001b[0m\u001b[0;34m\u001b[0m\u001b[0;34m\u001b[0m\u001b[0m\n\u001b[0;32m---> 20\u001b[0;31m     \u001b[0mface_location\u001b[0m \u001b[0;34m=\u001b[0m \u001b[0mface_recognition\u001b[0m\u001b[0;34m.\u001b[0m\u001b[0mface_locations\u001b[0m\u001b[0;34m(\u001b[0m\u001b[0mimg\u001b[0m\u001b[0;34m,\u001b[0m \u001b[0mmodel\u001b[0m\u001b[0;34m=\u001b[0m\u001b[0;34m\"cnn\"\u001b[0m\u001b[0;34m)\u001b[0m\u001b[0;34m\u001b[0m\u001b[0;34m\u001b[0m\u001b[0m\n\u001b[0m\u001b[1;32m     21\u001b[0m \u001b[0;34m\u001b[0m\u001b[0m\n\u001b[1;32m     22\u001b[0m     \u001b[0;34m'''여기 model=\"cnn\" 하면 원래 된다는데 내 컴퓨터로는 안됨 ㅜㅜㅜㅜ'''\u001b[0m\u001b[0;34m\u001b[0m\u001b[0;34m\u001b[0m\u001b[0m\n",
      "\u001b[0;31mTypeError\u001b[0m: face_locations() got an unexpected keyword argument 'model'"
     ]
    }
   ],
   "source": [
    "import numpy as np\n",
    "import face_recognition\n",
    "\n",
    "\n",
    "# Load the jpg file into a numpy array\n",
    "#image = face_recognition.load_image_file(\"/sample2_frame/frame 0.jpg\")\n",
    "\n",
    "images = []\n",
    "#for i in range(len(os.walk(path).__next__()[2])):\n",
    "for i in range(100):\n",
    "    image = load_image_file(\"sample3_frame/frame \"+str(i)+\".jpg\")\n",
    "    images.append(image)\n",
    "    \n",
    "\n",
    "# Find all the faces in the image using the default HOG-based model.\n",
    "# This method is fairly accurate, but not as accurate as the CNN model and not GPU accelerated.\n",
    "# See also: find_faces_in_picture_cnn.py\n",
    "face_locations = []\n",
    "for img in images:\n",
    "    face_location = face_recognition.face_locations(img, model=\"cnn\")\n",
    "    \n",
    "    '''여기 model=\"cnn\" 하면 원래 된다는데 내 컴퓨터로는 안됨 ㅜㅜㅜㅜ'''\n",
    "    \n",
    "    \n",
    "    #face_locations = face_recognition.face_locations(image)\n",
    "    #print(\"I found {} face(s) in this photograph.\".format(len(face_locations)))\n",
    "    face_locations.append(face_location)\n",
    "    \n",
    "print(face_locations)\n",
    "\n",
    "for face_location in face_locations:\n",
    "\n",
    "    # Print the location of each face in this image\n",
    "    top, right, bottom, left = face_location[0]\n",
    "    print(\"A face is located at pixel location Top: {}, Left: {}, Bottom: {}, Right: {}\".format(top, left, bottom, right))\n",
    "\n",
    "    # You can access the actual face itself like this:\n",
    "    face_image = image[top:bottom, left:right]\n",
    "    pil_image = Image.fromarray(face_image)\n",
    "    pil_image.show()"
   ]
  },
  {
   "cell_type": "markdown",
   "metadata": {},
   "source": [
    "conda install cmake\n",
    "\n",
    "conda install -c menpo dlib\n",
    "\n",
    "conda install face_recognition\n",
    "\n",
    "\n",
    "conda install pandas, pytorch, torchvision 등등"
   ]
  },
  {
   "cell_type": "markdown",
   "metadata": {},
   "source": [
    "https://face-recognition.readthedocs.io/en/latest/_modules/face_recognition/api.html#load_image_file "
   ]
  },
  {
   "cell_type": "code",
   "execution_count": null,
   "metadata": {},
   "outputs": [],
   "source": []
  }
 ],
 "metadata": {
  "kernelspec": {
   "display_name": "Python 3",
   "language": "python",
   "name": "python3"
  },
  "language_info": {
   "codemirror_mode": {
    "name": "ipython",
    "version": 3
   },
   "file_extension": ".py",
   "mimetype": "text/x-python",
   "name": "python",
   "nbconvert_exporter": "python",
   "pygments_lexer": "ipython3",
   "version": "3.8.1"
  }
 },
 "nbformat": 4,
 "nbformat_minor": 2
}
