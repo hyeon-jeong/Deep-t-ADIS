{
 "cells": [
  {
   "cell_type": "code",
   "execution_count": 1,
   "metadata": {},
   "outputs": [],
   "source": [
    "import os\n",
    "def createfolder(folder):\n",
    "    try:\n",
    "        if not os.path.exists(folder):\n",
    "            os.makedirs(folder)\n",
    "    except OSError:\n",
    "        print('Error: creating directory' + folder)\n",
    "        "
   ]
  },
  {
   "cell_type": "code",
   "execution_count": 2,
   "metadata": {},
   "outputs": [],
   "source": [
    "import PIL\n",
    "from PIL import Image\n",
    "\n",
    "def load_image_file(file, mode='RGB'):\n",
    "    im = PIL.Image.open(file)\n",
    "    if mode:\n",
    "        im = im.convert(mode)\n",
    "    return np.array(im)"
   ]
  },
  {
   "cell_type": "code",
   "execution_count": null,
   "metadata": {},
   "outputs": [
    {
     "name": "stdout",
     "output_type": "stream",
     "text": [
      "A face is located at pixel location Top: 112, Left: 846, Bottom: 230, Right: 964\n",
      "A face is located at pixel location Top: 112, Left: 846, Bottom: 230, Right: 964\n",
      "A face is located at pixel location Top: 112, Left: 846, Bottom: 230, Right: 964\n",
      "A face is located at pixel location Top: 112, Left: 846, Bottom: 230, Right: 964\n",
      "A face is located at pixel location Top: 112, Left: 846, Bottom: 230, Right: 964\n",
      "A face is located at pixel location Top: 112, Left: 846, Bottom: 230, Right: 964\n",
      "A face is located at pixel location Top: 112, Left: 846, Bottom: 230, Right: 964\n",
      "A face is located at pixel location Top: 112, Left: 846, Bottom: 230, Right: 964\n",
      "A face is located at pixel location Top: 112, Left: 846, Bottom: 230, Right: 964\n",
      "A face is located at pixel location Top: 97, Left: 831, Bottom: 239, Right: 973\n"
     ]
    }
   ],
   "source": [
    "import cv2\n",
    "import numpy as np\n",
    "import face_recognition\n",
    "\n",
    "videoname = 'sample1'\n",
    "path = videoname+'_frame'\n",
    "#'C:\\Users\\user\\Documents\\cyber17\\Face_Detection\\'\n",
    "video = cv2.VideoCapture(videoname+'.mp4')\n",
    "count = 0\n",
    "faces = []\n",
    "\n",
    "videoframe = video.get(cv2.CAP_PROP_POS_FRAMES)\n",
    "videocount = video.get(cv2.CAP_PROP_FRAME_COUNT)\n",
    "\n",
    "createfolder(path)\n",
    "\n",
    "while video.isOpened():\n",
    "    #ret 은 프레임이 존재하지 않을때 T/F 반환\n",
    "    #frame 은 프레임 반환\n",
    "    if(videoframe == videocount):\n",
    "        video.open(videoname+'.mp4')\n",
    "    \n",
    "    ret, frame = video.read()\n",
    "    frame = cv2.cvtColor(frame, cv2.COLOR_BGR2RGB)\n",
    "    if ret == False:\n",
    "        print(\"Frame doesn't Exist\")\n",
    "        break\n",
    "    \n",
    "    try:\n",
    "        #face_location 은 얼굴 위치(행렬에서)\n",
    "        face_location = face_recognition.face_locations(frame, model=\"cnn\") #cnn 모델 사용\n",
    "        top, right, bottom, left = face_location[0]\n",
    "        print(\"A face is located at pixel location Top: {}, Left: {}, Bottom: {}, Right: {}\".format(top, left, bottom, right))\n",
    "\n",
    "        #face_location 찾아서 파일로 저장\n",
    "        face_image = Image.fromarray(frame[top:bottom, left:right])\n",
    "        #Image.fromarray(face_image).show()\n",
    "        face_image.save(videoname+'_frame/frame %d.jpg' %count)\n",
    "        #print('Saved frame%d.jpg' %count)\n",
    "        count += 1\n",
    "        \n",
    "    except :\n",
    "        pass\n",
    "\n",
    "print(faces)\n",
    "video.release()\n",
    "cv2.destroyAllWindows()"
   ]
  },
  {
   "cell_type": "code",
   "execution_count": null,
   "metadata": {},
   "outputs": [],
   "source": [
    "!git init"
   ]
  },
  {
   "cell_type": "code",
   "execution_count": null,
   "metadata": {},
   "outputs": [],
   "source": [
    "\n",
    "import face_alignment\n",
    "from skimage import io\n",
    "import os\n",
    "\n",
    "framepath = videoname+'_frame/frame '\n",
    "\n",
    "fa = face_alignment.FaceAlignment(face_alignment.LandmarksType._3D, flip_input=False)\n",
    "\n",
    "for i in range(len(os.walk(path).__next__()[2])):\n",
    "    input = io.imread(framepath+str(i)+'.jpg')\n",
    "    preds = fa.get_landmarks(input)"
   ]
  },
  {
   "cell_type": "markdown",
   "metadata": {},
   "source": [
    "# 설치한 패키지들\n",
    "\n",
    "* conda install cmake\n",
    "\n",
    "* conda install pillow\n",
    "\n",
    "* conda install -c menpo dlib\n",
    "\n",
    "* pip install face_alignment\n",
    "\n",
    "* pip install opencv-python\n",
    "\n",
    "* pip install face_recognition"
   ]
  },
  {
   "cell_type": "code",
   "execution_count": null,
   "metadata": {},
   "outputs": [],
   "source": []
  }
 ],
 "metadata": {
  "kernelspec": {
   "display_name": "Python 3",
   "language": "python",
   "name": "python3"
  },
  "language_info": {
   "codemirror_mode": {
    "name": "ipython",
    "version": 3
   },
   "file_extension": ".py",
   "mimetype": "text/x-python",
   "name": "python",
   "nbconvert_exporter": "python",
   "pygments_lexer": "ipython3",
   "version": "3.7.6"
  }
 },
 "nbformat": 4,
 "nbformat_minor": 4
}
